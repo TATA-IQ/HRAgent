{
 "cells": [
  {
   "cell_type": "code",
   "execution_count": 1,
   "id": "735971b2",
   "metadata": {},
   "outputs": [],
   "source": [
    "from langchain.document_loaders import PyPDFLoader\n",
    "from langchain.vectorstores import Chroma\n",
    "from langchain_ollama import OllamaEmbeddings\n",
    "from langchain_experimental.text_splitter import SemanticChunker\n",
    "import chromadb\n",
    "import ollama\n",
    "import os\n",
    "from tqdm import tqdm\n",
    "from langchain_chroma import Chroma\n",
    "from langchain.vectorstores import Chroma\n",
    "from langchain_ollama import OllamaEmbeddings\n",
    "from langchain.chains import RetrievalQA\n",
    "from langchain_ollama import ChatOllama\n",
    "from langchain_core.prompts import PromptTemplate\n",
    "\n",
    "from langchain_text_splitters import RecursiveCharacterTextSplitter"
   ]
  },
  {
   "cell_type": "code",
   "execution_count": 4,
   "id": "e0c0c7a9",
   "metadata": {},
   "outputs": [],
   "source": [
    "path=r\"D:/HRAgent/Policies/ANTI-BRIBERY AND ANTI-CORRUPTION POLICY OF TATA INDUSTRIES.pdf\""
   ]
  },
  {
   "cell_type": "code",
   "execution_count": 5,
   "id": "74a7e56b",
   "metadata": {},
   "outputs": [],
   "source": [
    "loader=PyPDFLoader(path)"
   ]
  },
  {
   "cell_type": "code",
   "execution_count": 6,
   "id": "e173443a",
   "metadata": {},
   "outputs": [],
   "source": [
    "resultantpdf=[]"
   ]
  },
  {
   "cell_type": "code",
   "execution_count": 7,
   "id": "1f9be097",
   "metadata": {},
   "outputs": [],
   "source": [
    "resultantpdf.extend(loader.load())"
   ]
  },
  {
   "cell_type": "code",
   "execution_count": 8,
   "id": "33f8db3a",
   "metadata": {},
   "outputs": [],
   "source": [
    "url=\"http://172.16.0.178:8010\""
   ]
  },
  {
   "cell_type": "code",
   "execution_count": 11,
   "id": "4d4bfe6d",
   "metadata": {},
   "outputs": [],
   "source": [
    "embedding=OllamaEmbeddings(model=\"mxbai-embed-large\",base_url=url)"
   ]
  },
  {
   "cell_type": "code",
   "execution_count": null,
   "id": "9c03029b",
   "metadata": {},
   "outputs": [],
   "source": [
    "text_splitter = RecursiveCharacterTextSplitter(\n",
    "                                                chunk_size=250,\n",
    "                                                chunk_overlap=50,\n",
    "                                                length_function=len,\n",
    "                                                is_separator_regex=False,\n",
    "                                            )\n",
    "print(\"=======chunk creation=========\") \n",
    "chunks= text_splitter.create_documents([doc.page_content for doc in tqdm(resultantpdf)])"
   ]
  },
  {
   "cell_type": "code",
   "execution_count": null,
   "id": "d7af7b8f",
   "metadata": {},
   "outputs": [],
   "source": [
    "chroma_db = Chroma.from_documents(\n",
    "    documents=chunks, \n",
    "    embedding=embedding, \n",
    "    persist_directory=\"knowledgebase\", \n",
    "    collection_name=\"recursive_embed_knolwdge\"\n",
    ")"
   ]
  },
  {
   "cell_type": "code",
   "execution_count": null,
   "id": "83184e39",
   "metadata": {},
   "outputs": [],
   "source": [
    "chroma_db.as_retriever().get_relevant_documents(\"finance vice persident of tata insights and quants\")"
   ]
  },
  {
   "cell_type": "code",
   "execution_count": 2,
   "id": "0fd19c8a",
   "metadata": {},
   "outputs": [],
   "source": [
    "prompt_template = \"\"\"Use the following pieces of context to answer the question at the end. \n",
    "If you do not know the answer, please think rationally and answer from your own knowledge base.\n",
    "Don't put extra information\n",
    "\n",
    "{context}\n",
    "\n",
    "Question: {question}\n",
    "\"\"\"\n",
    "PROMPT = PromptTemplate(\n",
    "    template=prompt_template, input_variables=[\"context\", \"question\"]\n",
    ")"
   ]
  },
  {
   "cell_type": "code",
   "execution_count": 9,
   "id": "4bb27789",
   "metadata": {},
   "outputs": [],
   "source": [
    "llm=ChatOllama(base_url=url,model=\"llama3.2:1b\",temperature=0.1)"
   ]
  },
  {
   "cell_type": "code",
   "execution_count": 19,
   "id": "2be997ad",
   "metadata": {},
   "outputs": [],
   "source": [
    "retriever=Chroma(\n",
    "            collection_name=\"knowledgebase\",\n",
    "            persist_directory=\"recursive_embed_knolwdgev1\",\n",
    "            embedding_function=embedding\n",
    "\n",
    "        ).as_retriever()"
   ]
  },
  {
   "cell_type": "code",
   "execution_count": 20,
   "id": "75cacacf",
   "metadata": {},
   "outputs": [],
   "source": [
    "query=\"tell me about tata iq?\""
   ]
  },
  {
   "cell_type": "code",
   "execution_count": 21,
   "id": "ab24b407",
   "metadata": {},
   "outputs": [
    {
     "data": {
      "text/plain": [
       "\"Tata Iq is a mobile phone brand owned by Tata Consultancy Services (TCS), an Indian multinational technology company. It was launched in 2007 as the second mobile phone brand after Nokia, with the goal of competing with Apple's iPhone and other high-end smartphones.\\n\\nThe first generation of Tata Iq phones featured Android operating system and were available in various storage capacities, including 8GB and 16GB. The phones had a range of features, including Wi-Fi connectivity, Bluetooth, and GPS.\\n\\nTata Iq was discontinued by TCS in 2012 due to poor sales performance.\""
      ]
     },
     "execution_count": 21,
     "metadata": {},
     "output_type": "execute_result"
    }
   ],
   "source": [
    "chain_type_kwargs = {\"prompt\": PROMPT}\n",
    "qa_chain = RetrievalQA.from_chain_type(\n",
    "    llm=llm,\n",
    "    chain_type=\"stuff\", \n",
    "    retriever=retriever, \n",
    "    chain_type_kwargs=chain_type_kwargs)\n",
    "\n",
    "qa_chain.run(query)"
   ]
  },
  {
   "cell_type": "code",
   "execution_count": 22,
   "id": "44b65435",
   "metadata": {},
   "outputs": [
    {
     "ename": "NameError",
     "evalue": "name 'BaseModel' is not defined",
     "output_type": "error",
     "traceback": [
      "\u001b[1;31m---------------------------------------------------------------------------\u001b[0m",
      "\u001b[1;31mNameError\u001b[0m                                 Traceback (most recent call last)",
      "Cell \u001b[1;32mIn[22], line 1\u001b[0m\n\u001b[1;32m----> 1\u001b[0m \u001b[38;5;28;01mclass\u001b[39;00m \u001b[38;5;21;01mGradeDocument\u001b[39;00m(\u001b[43mBaseModel\u001b[49m):\n\u001b[0;32m      2\u001b[0m     binary_score: \u001b[38;5;28mstr\u001b[39m\u001b[38;5;241m=\u001b[39m Field(\u001b[38;5;124m\"\u001b[39m\u001b[38;5;124mGive a binary score \u001b[39m\u001b[38;5;124m'\u001b[39m\u001b[38;5;124myes\u001b[39m\u001b[38;5;124m'\u001b[39m\u001b[38;5;124m or \u001b[39m\u001b[38;5;124m'\u001b[39m\u001b[38;5;124mno\u001b[39m\u001b[38;5;124m'\u001b[39m\u001b[38;5;124m score to indicate whether the document is relevant or not\u001b[39m\u001b[38;5;124m\"\u001b[39m)\n\u001b[0;32m      4\u001b[0m structure_llm_grader\u001b[38;5;241m=\u001b[39m llm\u001b[38;5;241m.\u001b[39mwith_structured_output(GradeDocument)\n",
      "\u001b[1;31mNameError\u001b[0m: name 'BaseModel' is not defined"
     ]
    }
   ],
   "source": []
  },
  {
   "cell_type": "code",
   "execution_count": null,
   "id": "ff0aa12b",
   "metadata": {},
   "outputs": [],
   "source": []
  }
 ],
 "metadata": {
  "kernelspec": {
   "display_name": "yolov8",
   "language": "python",
   "name": "yolov8"
  },
  "language_info": {
   "codemirror_mode": {
    "name": "ipython",
    "version": 3
   },
   "file_extension": ".py",
   "mimetype": "text/x-python",
   "name": "python",
   "nbconvert_exporter": "python",
   "pygments_lexer": "ipython3",
   "version": "3.10.9"
  }
 },
 "nbformat": 4,
 "nbformat_minor": 5
}
