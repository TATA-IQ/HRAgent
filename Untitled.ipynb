{
 "cells": [
  {
   "cell_type": "code",
   "execution_count": null,
   "id": "fb1f870b",
   "metadata": {},
   "outputs": [],
   "source": [
    "from langchain.vectorstores import Chroma\n",
    "from langchain_ollama import OllamaEmbeddings\n",
    "from langchain.chains import RetrievalQA\n",
    "from langchain_ollama import ChatOllama\n",
    "from langchain_core.prompts import PromptTemplate"
   ]
  },
  {
   "cell_type": "code",
   "execution_count": null,
   "id": "3d899728",
   "metadata": {},
   "outputs": [],
   "source": []
  },
  {
   "cell_type": "code",
   "execution_count": null,
   "id": "24fc2590",
   "metadata": {},
   "outputs": [],
   "source": [
    "url=\"http://172.16.0.178:8010\""
   ]
  },
  {
   "cell_type": "code",
   "execution_count": null,
   "id": "81f17c9a",
   "metadata": {},
   "outputs": [],
   "source": [
    "llm=ChatOllama(base_url=url,model=\"llama3.2:1b\",temperature=0.1)"
   ]
  },
  {
   "cell_type": "code",
   "execution_count": null,
   "id": "872a2083",
   "metadata": {},
   "outputs": [],
   "source": [
    "embeddingllama=OllamaEmbeddings(model=\"llama3.2:1b\",base_url=url)"
   ]
  },
  {
   "cell_type": "code",
   "execution_count": null,
   "id": "6e1cf871",
   "metadata": {},
   "outputs": [],
   "source": [
    "embedding=OllamaEmbeddings(model=\"mxbai-embed-large\",base_url=url)"
   ]
  },
  {
   "cell_type": "code",
   "execution_count": null,
   "id": "a8b78f5b",
   "metadata": {},
   "outputs": [],
   "source": [
    "retrievermxbai=Chroma(\n",
    "            collection_name=\"tataiq_hrpolicy_demomxbai\",\n",
    "            persist_directory=\"hrpolicymxbai\",\n",
    "            embedding_function=embedding\n",
    "\n",
    "        ).as_retriever()"
   ]
  },
  {
   "cell_type": "code",
   "execution_count": null,
   "id": "4f088487",
   "metadata": {},
   "outputs": [],
   "source": [
    "retrieverllama=Chroma(\n",
    "            collection_name=\"tataiq_hrpolicy_demollama\",\n",
    "            persist_directory=\"hrpolicyllama\",\n",
    "            embedding_function=embeddingllama\n",
    "\n",
    "        ).as_retriever()"
   ]
  },
  {
   "cell_type": "code",
   "execution_count": null,
   "id": "9d40a0f4",
   "metadata": {},
   "outputs": [],
   "source": [
    "retrieverrec=Chroma(\n",
    "            collection_name=\"tataiq_hrpolicy_demorec\",\n",
    "            persist_directory=\"hrpolicydbrec\",\n",
    "            embedding_function=embeddingllama\n",
    "\n",
    "        ).as_retriever()"
   ]
  },
  {
   "cell_type": "code",
   "execution_count": null,
   "id": "542c525c",
   "metadata": {},
   "outputs": [],
   "source": [
    "prompt_template = \"\"\"Use the following pieces of context to answer the question at the end. \n",
    "If you do not know the answer, please think rationally and answer from your own knowledge base. \n",
    "\n",
    "{context}\n",
    "\n",
    "Question: {question}\n",
    "\"\"\"\n",
    "PROMPT = PromptTemplate(\n",
    "    template=prompt_template, input_variables=[\"context\", \"question\"]\n",
    ")"
   ]
  },
  {
   "cell_type": "code",
   "execution_count": null,
   "id": "2916eec6",
   "metadata": {},
   "outputs": [],
   "source": []
  },
  {
   "cell_type": "code",
   "execution_count": null,
   "id": "2d2aae45",
   "metadata": {},
   "outputs": [],
   "source": [
    "query = \"Vice President of tata insights and quants\""
   ]
  },
  {
   "cell_type": "code",
   "execution_count": null,
   "id": "ff3e6fd3",
   "metadata": {},
   "outputs": [],
   "source": [
    "chain_type_kwargs = {\"prompt\": PROMPT}\n",
    "qa_chain = RetrievalQA.from_chain_type(\n",
    "    llm=llm,\n",
    "    chain_type=\"stuff\", \n",
    "    retriever=chroma_db, \n",
    "    chain_type_kwargs=chain_type_kwargs)\n",
    "\n",
    "qa_chain.run(query)"
   ]
  },
  {
   "cell_type": "code",
   "execution_count": null,
   "id": "52148b18",
   "metadata": {},
   "outputs": [],
   "source": [
    "retrievermxbai.get_relevant_documents(\"tata insights and quants\")"
   ]
  },
  {
   "cell_type": "code",
   "execution_count": null,
   "id": "d57c7563",
   "metadata": {},
   "outputs": [],
   "source": [
    "\n",
    "chain_type_kwargs = {\"prompt\": PROMPT}\n",
    "qa_chain = RetrievalQA.from_chain_type(\n",
    "    llm=llm,\n",
    "    chain_type=\"stuff\", \n",
    "    retriever=retrieverllama, \n",
    "    chain_type_kwargs=chain_type_kwargs)\n",
    "\n",
    "qa_chain.run(query)"
   ]
  },
  {
   "cell_type": "code",
   "execution_count": null,
   "id": "2494011a",
   "metadata": {},
   "outputs": [],
   "source": [
    "qa_chain."
   ]
  },
  {
   "cell_type": "code",
   "execution_count": null,
   "id": "49273273",
   "metadata": {},
   "outputs": [],
   "source": [
    "chain_type_kwargs = {\"prompt\": PROMPT}\n",
    "qa_chain = RetrievalQA.from_chain_type(\n",
    "    llm=llm,\n",
    "    chain_type=\"stuff\", \n",
    "    retriever=retriever1, \n",
    "    chain_type_kwargs=chain_type_kwargs)\n",
    "\n",
    "qa_chain.run(query)"
   ]
  },
  {
   "cell_type": "code",
   "execution_count": null,
   "id": "959d6719",
   "metadata": {},
   "outputs": [],
   "source": [
    "from langchain_chroma import Chroma"
   ]
  },
  {
   "cell_type": "code",
   "execution_count": null,
   "id": "8390fcd8",
   "metadata": {},
   "outputs": [],
   "source": [
    "retrieverllama=Chroma(\n",
    "            collection_name=\"tataiq_hrpolicy_demollama\",\n",
    "            persist_directory=\"hrpolicyllama\",\n",
    "            embedding_function=embeddingllama\n",
    "\n",
    "        ).as_retriever()"
   ]
  },
  {
   "cell_type": "code",
   "execution_count": null,
   "id": "4d211ca6",
   "metadata": {},
   "outputs": [],
   "source": [
    "retrieverllama.invoke(input=\"tell me about tata insights and quants\")"
   ]
  },
  {
   "cell_type": "code",
   "execution_count": null,
   "id": "19bb6f5a",
   "metadata": {},
   "outputs": [],
   "source": [
    "retrieverrec=Chroma(\n",
    "            collection_name=\"tataiq_hrpolicy_demo\",\n",
    "            persist_directory=\"hrpolicydbrec\",\n",
    "            embedding_function=embeddingllama\n",
    "\n",
    "        ).as_retriever()"
   ]
  },
  {
   "cell_type": "code",
   "execution_count": null,
   "id": "59bb7a01",
   "metadata": {},
   "outputs": [],
   "source": [
    "chroma_db = Chroma(\n",
    "    \n",
    "    embedding_function=embedding, \n",
    "    persist_directory=\"data\", \n",
    "    collection_name=\"lc_chroma_demo\"\n",
    ").as_retriever()"
   ]
  },
  {
   "cell_type": "code",
   "execution_count": null,
   "id": "f1199846",
   "metadata": {},
   "outputs": [],
   "source": [
    "retrieverrec.invoke(input=\"tata iq\")"
   ]
  },
  {
   "cell_type": "code",
   "execution_count": null,
   "id": "b842c1d6",
   "metadata": {},
   "outputs": [],
   "source": [
    "em=embedding.embed_query(\"tell me about tataiq\")"
   ]
  },
  {
   "cell_type": "code",
   "execution_count": null,
   "id": "1043a1f0",
   "metadata": {},
   "outputs": [],
   "source": [
    "retrieverrec.get_relevant_documents(\"tell me about tataiq\")"
   ]
  },
  {
   "cell_type": "code",
   "execution_count": null,
   "id": "bac53852",
   "metadata": {},
   "outputs": [],
   "source": []
  }
 ],
 "metadata": {
  "kernelspec": {
   "display_name": "yolov8",
   "language": "python",
   "name": "yolov8"
  },
  "language_info": {
   "codemirror_mode": {
    "name": "ipython",
    "version": 3
   },
   "file_extension": ".py",
   "mimetype": "text/x-python",
   "name": "python",
   "nbconvert_exporter": "python",
   "pygments_lexer": "ipython3",
   "version": "3.10.9"
  }
 },
 "nbformat": 4,
 "nbformat_minor": 5
}
