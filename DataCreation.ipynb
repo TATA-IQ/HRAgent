{
 "cells": [
  {
   "cell_type": "code",
   "execution_count": null,
   "id": "47709319",
   "metadata": {},
   "outputs": [],
   "source": []
  },
  {
   "cell_type": "code",
   "execution_count": null,
   "id": "1b62344d",
   "metadata": {},
   "outputs": [],
   "source": []
  },
  {
   "cell_type": "code",
   "execution_count": null,
   "id": "d2037a7a",
   "metadata": {},
   "outputs": [],
   "source": [
    "from langchain.document_loaders import PyPDFLoader\n",
    "from langchain.vectorstores import Chroma\n",
    "from langchain_ollama import OllamaEmbeddings\n",
    "from langchain_experimental.text_splitter import SemanticChunker\n",
    "import chromadb\n",
    "import ollama\n",
    "import os\n",
    "from tqdm import tqdm\n",
    "from langchain_chroma import Chroma"
   ]
  },
  {
   "cell_type": "code",
   "execution_count": null,
   "id": "7aa2aba6",
   "metadata": {},
   "outputs": [],
   "source": [
    "path=r\"D:/HRAgent/Policies/ANTI-BRIBERY AND ANTI-CORRUPTION POLICY OF TATA INDUSTRIES.pdf\""
   ]
  },
  {
   "cell_type": "code",
   "execution_count": null,
   "id": "c3a230ba",
   "metadata": {},
   "outputs": [],
   "source": [
    "loader=PyPDFLoader(path)"
   ]
  },
  {
   "cell_type": "code",
   "execution_count": null,
   "id": "42b50b81",
   "metadata": {},
   "outputs": [],
   "source": [
    "resultantpdf=[]"
   ]
  },
  {
   "cell_type": "code",
   "execution_count": null,
   "id": "6e374e0b",
   "metadata": {},
   "outputs": [],
   "source": [
    "resultantpdf.extend(loader.load())"
   ]
  },
  {
   "cell_type": "code",
   "execution_count": null,
   "id": "b389ccd0",
   "metadata": {},
   "outputs": [],
   "source": [
    "url=\"http://172.16.0.178:8010\""
   ]
  },
  {
   "cell_type": "code",
   "execution_count": null,
   "id": "72958b1f",
   "metadata": {},
   "outputs": [],
   "source": [
    "embedding=OllamaEmbeddings(model=\"mxbai-embed-large\",base_url=url)\n"
   ]
  },
  {
   "cell_type": "code",
   "execution_count": null,
   "id": "7fd05bf0",
   "metadata": {},
   "outputs": [],
   "source": [
    "semanticchunker=SemanticChunker(embedding, breakpoint_threshold_type=\"percentile\")"
   ]
  },
  {
   "cell_type": "code",
   "execution_count": null,
   "id": "59bb03b3",
   "metadata": {},
   "outputs": [],
   "source": [
    "type(resultantpdf)"
   ]
  },
  {
   "cell_type": "code",
   "execution_count": null,
   "id": "a8170ab2",
   "metadata": {},
   "outputs": [],
   "source": [
    "chunks=semanticchunker.create_documents([doc.page_content for doc in tqdm(resultantpdf)])"
   ]
  },
  {
   "cell_type": "code",
   "execution_count": null,
   "id": "f6c77933",
   "metadata": {},
   "outputs": [],
   "source": [
    "len(chunks)"
   ]
  },
  {
   "cell_type": "code",
   "execution_count": null,
   "id": "8c541061",
   "metadata": {},
   "outputs": [],
   "source": [
    "chunks"
   ]
  },
  {
   "cell_type": "code",
   "execution_count": null,
   "id": "c6bb6a50",
   "metadata": {},
   "outputs": [],
   "source": [
    "for p,q,i, d in chunks:\n",
    "    print(i)\n",
    "    print(p)\n",
    "    response =embedding.embed_query(i[1]) #ollama.embeddings(model=\"mxbai-embed-large\", prompt=i[1])'\n",
    "    break\n",
    "    "
   ]
  },
  {
   "cell_type": "code",
   "execution_count": null,
   "id": "96d23a9c",
   "metadata": {},
   "outputs": [],
   "source": []
  },
  {
   "cell_type": "code",
   "execution_count": null,
   "id": "597fac8d",
   "metadata": {},
   "outputs": [],
   "source": [
    "# collection.add(\n",
    "#     ids=\"1\",\n",
    "                \n",
    "#                 embeddings=response,\n",
    "#                 documents=i[1]\n",
    "#             )"
   ]
  },
  {
   "cell_type": "code",
   "execution_count": null,
   "id": "823d85be",
   "metadata": {},
   "outputs": [],
   "source": [
    "chroma_db = Chroma.from_documents(\n",
    "    documents=chunks, \n",
    "    embedding=embedding, \n",
    "    persist_directory=\"data\", \n",
    "    collection_name=\"lc_chroma_demo\"\n",
    ")"
   ]
  },
  {
   "cell_type": "code",
   "execution_count": null,
   "id": "eb0d7e99",
   "metadata": {},
   "outputs": [],
   "source": [
    "chroma_db.as_retriever().get_relevant_documents(\"vice\")"
   ]
  },
  {
   "cell_type": "code",
   "execution_count": null,
   "id": "81e3e80b",
   "metadata": {},
   "outputs": [],
   "source": []
  }
 ],
 "metadata": {
  "kernelspec": {
   "display_name": "yolov8",
   "language": "python",
   "name": "yolov8"
  },
  "language_info": {
   "codemirror_mode": {
    "name": "ipython",
    "version": 3
   },
   "file_extension": ".py",
   "mimetype": "text/x-python",
   "name": "python",
   "nbconvert_exporter": "python",
   "pygments_lexer": "ipython3",
   "version": "3.10.9"
  }
 },
 "nbformat": 4,
 "nbformat_minor": 5
}
