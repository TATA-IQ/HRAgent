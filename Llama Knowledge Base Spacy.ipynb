{
 "cells": [
  {
   "cell_type": "code",
   "execution_count": 1,
   "id": "735971b2",
   "metadata": {},
   "outputs": [],
   "source": [
    "from langchain.document_loaders import PyPDFLoader\n",
    "from langchain.vectorstores import Chroma\n",
    "from langchain_ollama import OllamaEmbeddings\n",
    "from langchain_experimental.text_splitter import SemanticChunker\n",
    "import chromadb\n",
    "import ollama\n",
    "import os\n",
    "from tqdm import tqdm\n",
    "from langchain_chroma import Chroma\n",
    "from langchain.vectorstores import Chroma\n",
    "from langchain_ollama import OllamaEmbeddings\n",
    "from langchain.chains import RetrievalQA\n",
    "from langchain_ollama import ChatOllama\n",
    "from langchain_core.prompts import PromptTemplate\n",
    "from langchain_community.embeddings.spacy_embeddings import SpacyEmbeddings"
   ]
  },
  {
   "cell_type": "code",
   "execution_count": 2,
   "id": "e0c0c7a9",
   "metadata": {},
   "outputs": [],
   "source": [
    "path=r\"D:/HRAgent/Policies/ANTI-BRIBERY AND ANTI-CORRUPTION POLICY OF TATA INDUSTRIES.pdf\""
   ]
  },
  {
   "cell_type": "code",
   "execution_count": 3,
   "id": "74a7e56b",
   "metadata": {},
   "outputs": [],
   "source": [
    "loader=PyPDFLoader(path)"
   ]
  },
  {
   "cell_type": "code",
   "execution_count": 4,
   "id": "e173443a",
   "metadata": {},
   "outputs": [],
   "source": [
    "resultantpdf=[]"
   ]
  },
  {
   "cell_type": "code",
   "execution_count": 5,
   "id": "1f9be097",
   "metadata": {},
   "outputs": [],
   "source": [
    "resultantpdf.extend(loader.load())"
   ]
  },
  {
   "cell_type": "code",
   "execution_count": 6,
   "id": "a1c5ab0d",
   "metadata": {},
   "outputs": [],
   "source": [
    "path=r\"D:/HRAgent/Policies\"\n",
    "fname=os.listdir(path)\n",
    "resultantpdf=[]\n",
    "for fl in fname:\n",
    "    \n",
    "    loader=PyPDFLoader(os.path.join(path,fl))\n",
    "    resultantpdf.extend(loader.load())"
   ]
  },
  {
   "cell_type": "code",
   "execution_count": 7,
   "id": "33f8db3a",
   "metadata": {},
   "outputs": [],
   "source": [
    "url=\"http://172.16.0.178:8010\""
   ]
  },
  {
   "cell_type": "code",
   "execution_count": 8,
   "id": "4d4bfe6d",
   "metadata": {},
   "outputs": [],
   "source": [
    "# embedding=OllamaEmbeddings(model=\"llama3.2:1b\",base_url=url)\n",
    "embedding = SpacyEmbeddings(model_name=\"en_core_web_sm\")"
   ]
  },
  {
   "cell_type": "code",
   "execution_count": 9,
   "id": "9c03029b",
   "metadata": {},
   "outputs": [],
   "source": [
    "semanticchunker=SemanticChunker(embedding, breakpoint_threshold_type=\"percentile\")"
   ]
  },
  {
   "cell_type": "code",
   "execution_count": 10,
   "id": "4481d633",
   "metadata": {},
   "outputs": [
    {
     "name": "stderr",
     "output_type": "stream",
     "text": [
      "100%|████████████████████████████████████████████████████████████████████████████████████████| 100/100 [00:00<?, ?it/s]\n"
     ]
    }
   ],
   "source": [
    "chunks=semanticchunker.create_documents([doc.page_content for doc in tqdm(resultantpdf)])"
   ]
  },
  {
   "cell_type": "code",
   "execution_count": 11,
   "id": "7872fdf7",
   "metadata": {},
   "outputs": [],
   "source": [
    "modified_chunks=[]\n",
    "for ch in chunks:\n",
    "    if ch.page_content==\"\":\n",
    "        pass\n",
    "    else:\n",
    "        modified_chunks.append(ch)\n",
    "    "
   ]
  },
  {
   "cell_type": "code",
   "execution_count": 12,
   "id": "ebac6857",
   "metadata": {},
   "outputs": [
    {
     "data": {
      "text/plain": [
       "129"
      ]
     },
     "execution_count": 12,
     "metadata": {},
     "output_type": "execute_result"
    }
   ],
   "source": [
    "len(modified_chunks)"
   ]
  },
  {
   "cell_type": "code",
   "execution_count": null,
   "id": "d7af7b8f",
   "metadata": {},
   "outputs": [],
   "source": [
    "chroma_db = Chroma.from_documents(\n",
    "    documents=modified_chunks, \n",
    "    embedding=embedding, \n",
    "    persist_directory=\"knowledgebase3\", \n",
    "    collection_name=\"spacy_embed_knolwdge\"\n",
    ")"
   ]
  },
  {
   "cell_type": "code",
   "execution_count": null,
   "id": "1ddf0190",
   "metadata": {},
   "outputs": [],
   "source": []
  },
  {
   "cell_type": "code",
   "execution_count": 11,
   "id": "83184e39",
   "metadata": {},
   "outputs": [
    {
     "name": "stderr",
     "output_type": "stream",
     "text": [
      "C:\\Users\\AdityaKumarSingh\\AppData\\Local\\Temp\\ipykernel_3252\\4032791689.py:1: LangChainDeprecationWarning: The method `BaseRetriever.get_relevant_documents` was deprecated in langchain-core 0.1.46 and will be removed in 1.0. Use :meth:`~invoke` instead.\n",
      "  chroma_db.as_retriever().get_relevant_documents(\"finance vice persident of tata insights and quants\")\n"
     ]
    },
    {
     "data": {
      "text/plain": [
       "[Document(metadata={}, page_content='Expenses must never be hidden or purposefully misclassified. Many serious global \\nbribery and corruption scenarios are found to invo lve inaccurate record -keeping. To \\nprevent this, international anti-corruption laws generally require detailed and accurate \\naccounting records for transactions, inc luding cash and bank accounts. All \\nDesignated Persons must ensure that we maintain accurate books, records and \\nfinancial reporting. 3. All business units and entities must maintain an effective system of internal control \\nand m onitoring of our transactions. Certain monitoring controls are identified in our \\npolicies, specifically regarding approval of travel and entertainme nt expenses. It is the \\nresponsibility of the Designated Persons to be knowle dgeable about control \\nprocedures and ensure compliance. Designated Persons are required to ensure that \\nall expense claims relating to hospitality, gifts or charitable donations are submitted in \\naccordance with applicable policies and specifically record the reason for the \\nexpenditure. 4. Designated Persons are required to maintain all financial records and have \\nappropriate internal controls in place which will evidence the business reason for \\nmaking payments to or receiving payments from third parties. 5. All a ccounts, invoices, memoranda and other documents and records relating to \\ndealings with third parties, such as customers, suppliers and business contacts, \\nshould be prepared and maintained with accuracy and completeness . Our record s \\nmanagement and retention  policies ensure that we maintain the records we need to \\nmeet our legal, tax and regulatory requirements and securely dispose of reco rds that \\nare no longer needed  or are beyond the statutory retention period . Designated \\nPersons should t ake care never to dispose of information that may be relevant to \\ncurrent or threatened litigation or subject to a legal prohibition or stipulation until they \\nare authorized in writing to do so by the relevant department. 6. Designated Person s who see  or suspe ct financial misconduct  should notify their  \\nsupervisors immediately, and contact the Compliance Officer. XVII.'),\n",
       " Document(metadata={}, page_content=' \\n  Privileged and Confidential \\n 9 \\nVII. FACILITATION PAYMENTS OR KICKBACKS \\n1. All Facilitation Payments and kickbacks are corrupt payments, and any such payment \\nin the course of our Company’s business is strictly forbidden. 2. Facilitation P ayments are often involved in obtaining non -discretionary permits, \\nlicenses or other official documents, expediting lawful customs clearances, obtaining \\nthe issuance of entry or exit visas, providing police protection, whether or not such \\nactions are connected to the award of new business or the continuation of existing \\nbusiness. VIII. PROCUREMENT PROCESS \\nDesignated Persons must follow our Company’s processes and adhere to the system \\nof internal controls around supplier selection. Supplier selection should never be \\nbased on receipt of a gift, hospitality or payment. When supplier selection is a formal, \\nstructured invitation for the supply of products or services (often called a ‘tender’), it is \\nmost important we maintain documentation supporting our internal controls. Designated Persons must familiarise themselves with our Company’s procurement \\nprocesses and must adhere to the same. IX. INTERACTION WITH CUSTOMERS \\n1. Where a Designated Person  is responsible for relationships with customers, she/he \\nmay entertain customers for bona -fide purposes only  in accordance with our \\nCompany’s Gifts & Hospitality Policy . Records of such entertainment should be \\nmaintained as per our Gifts & Hospitality Policy. 2. Bribery may also occur on the sales side, for example an employee might accept a \\nbribe to prefer one customer over another, again with potentially damaging \\nconsequences for relationships with other customer s, as well as the legal \\nconsequences to our Company. 3. In the normal course of business, discounts and rebates are offered to customers in \\nboth the private and public sectors. While this is common industry practice, the wide \\nvariety of arrangements and the relative complexity of some of them creates a degree \\nof risk that such arrangements could be used  to disguise improper inducements to \\nindividual customer representatives (for example, selective dissemination of the fact \\nthat free products are being  provided), and consequently great care needs to be \\nexercised in the deployment of such arrangements. X. USE OF THIRD PARTY AGENTS, CONSULTANTS AND OTHER \\nINTERMEDIARIES  \\n1. Our Company may be held responsible for bribes paid on its behalf by third parties, \\nwith severe and often irreparable consequences , even if our Company did not \\nauthorize these payments. Therefore, it is critical that we are careful in the selection \\nof agents, that is, those people or companies who act on our behalf. 2. All dealings with suppliers, agents, contractors, service providers, intermediaries, \\nconsultants, and advisors, shall be carried out with the highest standards of integrity \\nand in compliance with all relevant laws and regulations. We expect all our third \\nparties to share our values and our ethical standards.'),\n",
       " Document(metadata={}, page_content='HOW TO RAISE CONCERNS \\n1. Every Designated Person is encouraged to raise concerns about any bribery issue or \\nsuspicion of malpractice or any case of corrupt practice or any breach of this ABAC \\nPolicy or applicable ABAC law at the earliest possible stage. If he/she is unsure \\nwhether a particular act constitutes bribery or corruption or if he/she has any other \\nqueries, these should be raised with the respective reporting manager  and the \\nCompliance Officer at the following email address ssriram@tata.com. 2. Designated Persons  may also raise concerns or queries to the Ethics Counsellor \\nthrough the ‘Raising Concerns’ mechanism under the TCoC or through the \\n‘Whistleblower Policy’ which is  intended to encourage and enable employees , and \\nother stakeholders, to raise serious concerns internally. 3. No personnel who in good faith, reports a violation of the ABAC Policy  shall suffer \\nharassment, retaliation or adverse employment consequences. XIX.'),\n",
       " Document(metadata={}, page_content='POLITICAL COMMUNITY AND CHARITABLE CONTRIBUTIONS \\n1. Section I, Clause 1 of TCoC 2015 states : “We shall act in accordance with the \\nconstitution and governance systems of the countries in which we operate. We do not \\nseek to influence the outcome of public elections, nor to undermine or alter any \\nsystem of government. We do not support any specific political party or candidate for \\npolitical office. Our conduct must preclude any activity that could be interpreted as \\nmutual dependence / favour with any political body or person, and we do not offer or \\ngive any company funds or property or other resources as donations to any specific \\npolitical party, candidate or campaign. Any financial contributions considered by our Board of Directors in order to \\nstrengthen democratic forces through a clean electoral process shall be extended \\nonly through the Progressive Electoral Trust in India, or by a similar transparent, duly-\\nauthorised, non-discriminatory and non-discretionary vehicle outside India”. Designated Persons are not  allowed to make political contributions from the funds, \\nproperties or other resources  of our Company except political contributions approved \\nby the Board in accordance with the TCoC  and in compliance with applicable \\nlaw. Our Company may make  charitable donation s for humanitarian needs and \\nother factors, including emergency situations and disaster relief. Such contributions \\nmust be made in compliance with our Company’s Corporate Social Responsibili ty \\nPolicy, when it will be adopted by the Board. However, it is important that we pay \\nspecial attention when making donations such that they shall be made without \\ndemand or expectation, so that our donations would not be considered inducements, \\nas this would be a violation of the anti -corruption laws , the TCoC  and this ABAC \\nPolicy. Thus, contributions by the Company to community projects or charities need \\nto be made in good faith and in compliance with our TCoC, this ABAC Policy and all \\nother relevant policies and procedures. ')]"
      ]
     },
     "execution_count": 11,
     "metadata": {},
     "output_type": "execute_result"
    }
   ],
   "source": [
    "chroma_db.as_retriever().get_relevant_documents(\"finance vice persident of tata insights and quants\")"
   ]
  },
  {
   "cell_type": "code",
   "execution_count": 12,
   "id": "0fd19c8a",
   "metadata": {},
   "outputs": [],
   "source": [
    "prompt_template = \"\"\"Use the following pieces of context to answer the question at the end. \n",
    "If you do not know the answer, please think rationally and answer from your own knowledge base.\n",
    "Don't put extra information\n",
    "\n",
    "{context}\n",
    "\n",
    "Question: {question}\n",
    "\"\"\"\n",
    "PROMPT = PromptTemplate(\n",
    "    template=prompt_template, input_variables=[\"context\", \"question\"]\n",
    ")"
   ]
  },
  {
   "cell_type": "code",
   "execution_count": 13,
   "id": "4bb27789",
   "metadata": {},
   "outputs": [],
   "source": [
    "llm=ChatOllama(base_url=url,model=\"llama3.2:1b\",temperature=0.1)"
   ]
  },
  {
   "cell_type": "code",
   "execution_count": 14,
   "id": "75cacacf",
   "metadata": {},
   "outputs": [],
   "source": [
    "query=\"finance vp of tata iq?\""
   ]
  },
  {
   "cell_type": "code",
   "execution_count": 15,
   "id": "ab24b407",
   "metadata": {},
   "outputs": [
    {
     "name": "stderr",
     "output_type": "stream",
     "text": [
      "C:\\Users\\AdityaKumarSingh\\AppData\\Local\\Temp\\ipykernel_3252\\2838688471.py:8: LangChainDeprecationWarning: The method `Chain.run` was deprecated in langchain 0.1.0 and will be removed in 1.0. Use :meth:`~invoke` instead.\n",
      "  qa_chain.run(query)\n"
     ]
    },
    {
     "data": {
      "text/plain": [
       "\"A gift is considered acceptable if it meets certain criteria, as outlined in Section D, Clause 11 and Section G, Clause 4 of the Tata Consultancy Company's (TCoC) 2015 Gifts & Hospitality Policy. These criteria include:\\n\\n- Reasonableness: The gift should be proportionate to the relationship between the parties involved.\\n- Proportionality: The gift should not be excessive or unreasonable in terms of value or frequency.\\n- Good faith: The gift should be made in good faith and without any ulterior motive.\\n- Compliance with policies: The gift should comply with the Company's Gifts & Hospitality Policy, including Section D, Clause 11 and Section G, Clause 4.\\n\\nIn the context of a finance VP at Tata IQ, a gift would likely be considered acceptable if it meets these criteria.\""
      ]
     },
     "execution_count": 15,
     "metadata": {},
     "output_type": "execute_result"
    }
   ],
   "source": [
    "chain_type_kwargs = {\"prompt\": PROMPT}\n",
    "qa_chain = RetrievalQA.from_chain_type(\n",
    "    llm=llm,\n",
    "    chain_type=\"stuff\", \n",
    "    retriever=chroma_db.as_retriever(), \n",
    "    chain_type_kwargs=chain_type_kwargs)\n",
    "\n",
    "qa_chain.run(query)"
   ]
  },
  {
   "cell_type": "code",
   "execution_count": null,
   "id": "44b65435",
   "metadata": {},
   "outputs": [],
   "source": [
    "from pydantic import BaseModel\n",
    "from langchain_core.pydantic_v1 import BaseModel, Field"
   ]
  },
  {
   "cell_type": "code",
   "execution_count": null,
   "id": "2efdfe60",
   "metadata": {},
   "outputs": [],
   "source": [
    "from langchain_core.prompts import ChatPromptTemplate\n",
    "from langchain_ollama import ChatOllama"
   ]
  },
  {
   "cell_type": "code",
   "execution_count": null,
   "id": "f4a23839",
   "metadata": {},
   "outputs": [],
   "source": [
    "llm=ChatOllama(base_url=\"http://172.16.0.178:8010/\",model=\"llama3.2:1b\")"
   ]
  },
  {
   "cell_type": "code",
   "execution_count": null,
   "id": "5b450a4e",
   "metadata": {},
   "outputs": [],
   "source": [
    "class GradeDocument(BaseModel):\n",
    "    binary_score: str= Field(\"Give a binary score 'yes' or 'no' score to indicate whether the document is relevant or not\")\n",
    "\n",
    "structure_llm_grader= llm.with_structured_output(GradeDocument)"
   ]
  },
  {
   "cell_type": "code",
   "execution_count": null,
   "id": "31281137",
   "metadata": {},
   "outputs": [],
   "source": [
    "structure_llm_grader"
   ]
  },
  {
   "cell_type": "code",
   "execution_count": null,
   "id": "d764ef67",
   "metadata": {},
   "outputs": [],
   "source": [
    "system=\"\"\" You are a grader assessing relevance of a retrieved document to a user question.\\n\n",
    "If the document contains keyword(s) or semantic meaning related to the question, grade it as a relevent.\n",
    "Give a binary score 'yes' or 'no' score to indicate whether the document is relevant or not\n",
    "\n",
    "\"\"\""
   ]
  },
  {
   "cell_type": "code",
   "execution_count": null,
   "id": "e68c35e1",
   "metadata": {},
   "outputs": [],
   "source": [
    "grade_prompt= ChatPromptTemplate.from_messages([\n",
    "    (\"system\",system),\n",
    "    (\"human\",\"\"\"Retrieved documents: \\n\\n {documents} \\n\\n user_question: {question}\"\"\")\n",
    "])"
   ]
  },
  {
   "cell_type": "code",
   "execution_count": null,
   "id": "8f588b9d",
   "metadata": {},
   "outputs": [],
   "source": [
    "doc=chroma_db.as_retriever().get_relevant_documents(query)"
   ]
  },
  {
   "cell_type": "code",
   "execution_count": null,
   "id": "abb30c99",
   "metadata": {},
   "outputs": [],
   "source": [
    "retrieval_grader=grade_prompt|structure_llm_grader"
   ]
  },
  {
   "cell_type": "code",
   "execution_count": null,
   "id": "48272194",
   "metadata": {},
   "outputs": [],
   "source": [
    "retrieval_grader.invoke({\"question\":query,\"documents\":doc[0].page_content})"
   ]
  },
  {
   "cell_type": "code",
   "execution_count": null,
   "id": "6ab7b9e5",
   "metadata": {},
   "outputs": [],
   "source": [
    "retrieval_grader.get_graph()"
   ]
  },
  {
   "cell_type": "code",
   "execution_count": null,
   "id": "b453157e",
   "metadata": {},
   "outputs": [],
   "source": []
  }
 ],
 "metadata": {
  "kernelspec": {
   "display_name": "yolov8",
   "language": "python",
   "name": "yolov8"
  },
  "language_info": {
   "codemirror_mode": {
    "name": "ipython",
    "version": 3
   },
   "file_extension": ".py",
   "mimetype": "text/x-python",
   "name": "python",
   "nbconvert_exporter": "python",
   "pygments_lexer": "ipython3",
   "version": "3.10.9"
  }
 },
 "nbformat": 4,
 "nbformat_minor": 5
}
