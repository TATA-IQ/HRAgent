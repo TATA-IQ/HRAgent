{
 "cells": [
  {
   "cell_type": "code",
   "execution_count": 1,
   "id": "22b72346",
   "metadata": {},
   "outputs": [],
   "source": [
    "from langchain.document_loaders import PyPDFLoader\n",
    "from langchain.vectorstores import Chroma\n",
    "from langchain_ollama import OllamaEmbeddings\n",
    "from langchain_experimental.text_splitter import SemanticChunker\n",
    "import chromadb\n",
    "import ollama\n",
    "import os\n",
    "from tqdm import tqdm\n",
    "from langchain_chroma import Chroma\n",
    "from langchain.vectorstores import Chroma\n",
    "from langchain_ollama import OllamaEmbeddings\n",
    "from langchain.chains import RetrievalQA\n",
    "from langchain_ollama import ChatOllama\n",
    "from langchain_core.prompts import PromptTemplate"
   ]
  },
  {
   "cell_type": "code",
   "execution_count": 2,
   "id": "ea767e71",
   "metadata": {},
   "outputs": [],
   "source": [
    "path=r\"D:/HRAgent/Policies/ANTI-BRIBERY AND ANTI-CORRUPTION POLICY OF TATA INDUSTRIES.pdf\""
   ]
  },
  {
   "cell_type": "code",
   "execution_count": 3,
   "id": "9246309a",
   "metadata": {},
   "outputs": [],
   "source": [
    "loader=PyPDFLoader(path)"
   ]
  },
  {
   "cell_type": "code",
   "execution_count": 4,
   "id": "dde6a058",
   "metadata": {},
   "outputs": [],
   "source": [
    "resultantpdf=[]"
   ]
  },
  {
   "cell_type": "code",
   "execution_count": 5,
   "id": "f35b1a9d",
   "metadata": {},
   "outputs": [],
   "source": [
    "resultantpdf.extend(loader.load())"
   ]
  },
  {
   "cell_type": "code",
   "execution_count": 6,
   "id": "06802ed0",
   "metadata": {},
   "outputs": [],
   "source": [
    "url=\"http://172.16.0.178:8010\""
   ]
  },
  {
   "cell_type": "code",
   "execution_count": 7,
   "id": "b64413c9",
   "metadata": {},
   "outputs": [],
   "source": [
    "embedding=OllamaEmbeddings(model=\"mxbai-embed-large\",base_url=url)"
   ]
  },
  {
   "cell_type": "code",
   "execution_count": 8,
   "id": "f3cf2fb1",
   "metadata": {},
   "outputs": [],
   "source": [
    "semanticchunker=SemanticChunker(embedding, breakpoint_threshold_type=\"percentile\")"
   ]
  },
  {
   "cell_type": "code",
   "execution_count": 9,
   "id": "8361eb40",
   "metadata": {},
   "outputs": [
    {
     "name": "stderr",
     "output_type": "stream",
     "text": [
      "100%|████████████████████████████████████████████████████████████████████████| 14/14 [00:00<00:00, 14221.42it/s]\n"
     ]
    }
   ],
   "source": [
    "chunks=semanticchunker.create_documents([doc.page_content for doc in tqdm(resultantpdf)])"
   ]
  },
  {
   "cell_type": "code",
   "execution_count": 10,
   "id": "73979ab0",
   "metadata": {},
   "outputs": [],
   "source": [
    "chroma_db = Chroma.from_documents(\n",
    "    documents=chunks, \n",
    "    embedding=embedding, \n",
    "    persist_directory=\"knowledgebase\", \n",
    "    collection_name=\"maxbai_embed_knolwdge\"\n",
    ")"
   ]
  },
  {
   "cell_type": "code",
   "execution_count": 11,
   "id": "2542ade9",
   "metadata": {},
   "outputs": [
    {
     "name": "stderr",
     "output_type": "stream",
     "text": [
      "C:\\Users\\AdityaKumarSingh\\AppData\\Local\\Temp\\ipykernel_13276\\4032791689.py:1: LangChainDeprecationWarning: The method `BaseRetriever.get_relevant_documents` was deprecated in langchain-core 0.1.46 and will be removed in 1.0. Use :meth:`~invoke` instead.\n",
      "  chroma_db.as_retriever().get_relevant_documents(\"finance vice persident of tata insights and quants\")\n"
     ]
    },
    {
     "data": {
      "text/plain": [
       "[Document(metadata={}, page_content='S. Sriram, Vice President (Finance) & \\nCompany Secretary  (Email: ssriram@tata.com) has been designated as the  \\nCompliance Officer . All reports, complaints, doubts or concerns in relation to this \\nABAC Policy shall be raised by the Designated Persons to the Compliance Officer  or \\nto the Company Ethics Counsellor. Every query or concern rais ed by any Designated \\nPerson in relation to any suspected violation of this ABAC Policy shall be investigated \\nby the Compliance Officer. All queries, concerns or complaints received by the Company Ethics Counsellor \\ndealing with a bribe ry or corruption issue should be reported to the Compliance \\nOfficer by the Company Ethics Counsellor. Any action required  to be undertaken \\nunder this ABAC  Policy shall be taken by the Compliance Officer in accordance with \\nthis ABAC Policy. The Compliance Officer shall have a functional reporting to the  \\nDesignated Director , Dr. Nirmalya Kumar  (Email: nirmalya@tata.com) and shall \\nsubmit quarterly compliance reports to the Designated Director. Aggravated cases of \\nbreach of this ABAC Policy shall be escalated to the Board of Directors o f the \\nCompany (“Board”). IV.'),\n",
       " Document(metadata={}, page_content=' \\n  Privileged and Confidential \\n 1 \\n \\n \\n \\n \\n \\n \\n \\n \\n \\n \\n \\nTATA INDUSTRIES LIMITED \\n \\n \\n \\nANTI-BRIBERY AND ANTI-CORRUPTION POLICY \\n \\n \\n \\nMarch 14, 2016 \\n \\n  '),\n",
       " Document(metadata={}, page_content=' \\n  Privileged and Confidential \\n 2 \\nMODEL ANTI-BRIBERY AND ANTI-CORRUPTION POLICY \\nI. Policy  Statement and Purpose \\n \\n1. One of the c ore principles set out in the Tata Code of Conduct 2015 states: ‘ We are \\ncommitted to operating our businesses conforming to the highest moral and ethical \\nstandards. We do not tolerate bribery or corruption in any form. This commitment \\nunderpins everything we do.’  \\n \\nOur Company , having adopted the Tata Code of Conduct in 2015, is therefore \\ncommitted to acting professionally, fairly and with integrity in all its business dealings \\nand relationships wherever it operates, and to implementing and enforcing effective \\nsystems to counter bribery. This includes compliance with all laws, domestic and \\nforeign, prohibiting improper payments, gifts or inducements of any kind to or from \\nany person, including officials in the private or public sector, customers and su ppliers. Our Company is equally committed to the prevention, deterrence and detection of \\nbribery and other corrupt business practices. 2. Bribery and corruption can take many forms including cash  or gifts to an individual or \\nfamily members  or associates, inflated commissions, fake consultancy agreements, \\nunauthorized rebates, non-monetary favours  and false political or charitable \\ndonations. These actions may be undertaken  directly or through a third party. It is \\nillegal and immoral to, directly or indirectly, offer or receive a bribe. 3. We uphold all laws relevant to countering bribery and corruption  applicable to us in \\nthe conduct of our business  across all the jurisdictions in which we operate including , \\nwherever applicable, the U.S Foreign Corrupt Practices Act (“ FCPA”), the UK Bribery \\nAct (“ UKBA”) and the Indian Prevention of Corruption Act, 1988  (“PCA”). Different \\nstatutes adopt different yardsticks to determine whether or not a particular act or \\nomission is an offence thereunder; thus an act may be an offence under one statute, \\nbut not under another. T he FCPA makes it a federal crime for companies or \\nindividuals to bribe government officials in non -U.S. countries in order to obtain or \\nretain business, or to secure impro per business advantages. The FCPA also requires \\npublic companies or issuers (U.S. and non -U.S companies that trade securities on a \\nU.S.'),\n",
       " Document(metadata={}, page_content='POLITICAL COMMUNITY AND CHARITABLE CONTRIBUTIONS \\n1. Section I, Clause 1 of TCoC 2015 states : “We shall act in accordance with the \\nconstitution and governance systems of the countries in which we operate. We do not \\nseek to influence the outcome of public elections, nor to undermine or alter any \\nsystem of government. We do not support any specific political party or candidate for \\npolitical office. Our conduct must preclude any activity that could be interpreted as \\nmutual dependence / favour with any political body or person, and we do not offer or \\ngive any company funds or property or other resources as donations to any specific \\npolitical party, candidate or campaign. Any financial contributions considered by our Board of Directors in order to \\nstrengthen democratic forces through a clean electoral process shall be extended \\nonly through the Progressive Electoral Trust in India, or by a similar transparent, duly-\\nauthorised, non-discriminatory and non-discretionary vehicle outside India”. Designated Persons are not  allowed to make political contributions from the funds, \\nproperties or other resources  of our Company except political contributions approved \\nby the Board in accordance with the TCoC  and in compliance with applicable \\nlaw. Our Company may make  charitable donation s for humanitarian needs and \\nother factors, including emergency situations and disaster relief. Such contributions \\nmust be made in compliance with our Company’s Corporate Social Responsibili ty \\nPolicy, when it will be adopted by the Board. However, it is important that we pay \\nspecial attention when making donations such that they shall be made without \\ndemand or expectation, so that our donations would not be considered inducements, \\nas this would be a violation of the anti -corruption laws , the TCoC  and this ABAC \\nPolicy. Thus, contributions by the Company to community projects or charities need \\nto be made in good faith and in compliance with our TCoC, this ABAC Policy and all \\nother relevant policies and procedures. ')]"
      ]
     },
     "execution_count": 11,
     "metadata": {},
     "output_type": "execute_result"
    }
   ],
   "source": [
    "chroma_db.as_retriever().get_relevant_documents(\"finance vice persident of tata insights and quants\")"
   ]
  },
  {
   "cell_type": "code",
   "execution_count": 12,
   "id": "26d9ec21",
   "metadata": {},
   "outputs": [],
   "source": [
    "prompt_template = \"\"\"Use the following pieces of context to answer the question at the end. \n",
    "If you do not know the answer, please think rationally and answer from your own knowledge base.\n",
    "Don't put extra information\n",
    "\n",
    "{context}\n",
    "\n",
    "Question: {question}\n",
    "\"\"\"\n",
    "PROMPT = PromptTemplate(\n",
    "    template=prompt_template, input_variables=[\"context\", \"question\"]\n",
    ")"
   ]
  },
  {
   "cell_type": "code",
   "execution_count": 13,
   "id": "7cf6d9a1",
   "metadata": {},
   "outputs": [],
   "source": [
    "llm=ChatOllama(base_url=url,model=\"llama3.2:1b\",temperature=0.1)"
   ]
  },
  {
   "cell_type": "code",
   "execution_count": 17,
   "id": "73ef2571",
   "metadata": {},
   "outputs": [],
   "source": [
    "query=\"finance vp of tata iq\""
   ]
  },
  {
   "cell_type": "code",
   "execution_count": 18,
   "id": "e97c502d",
   "metadata": {},
   "outputs": [
    {
     "data": {
      "text/plain": [
       "'The Compliance Officer is responsible for investigating queries, concerns, or complaints raised by Designated Persons regarding suspected violations of the Anti-Bribery and Anti-Corruption Policy (ABAC Policy).'"
      ]
     },
     "execution_count": 18,
     "metadata": {},
     "output_type": "execute_result"
    }
   ],
   "source": [
    "chain_type_kwargs = {\"prompt\": PROMPT}\n",
    "qa_chain = RetrievalQA.from_chain_type(\n",
    "    llm=llm,\n",
    "    chain_type=\"stuff\", \n",
    "    retriever=chroma_db.as_retriever(), \n",
    "    chain_type_kwargs=chain_type_kwargs)\n",
    "\n",
    "qa_chain.run(query)"
   ]
  },
  {
   "cell_type": "code",
   "execution_count": 16,
   "id": "c5c08c55",
   "metadata": {},
   "outputs": [
    {
     "data": {
      "text/plain": [
       "[Document(metadata={}, page_content='S. Sriram, Vice President (Finance) & \\nCompany Secretary  (Email: ssriram@tata.com) has been designated as the  \\nCompliance Officer . All reports, complaints, doubts or concerns in relation to this \\nABAC Policy shall be raised by the Designated Persons to the Compliance Officer  or \\nto the Company Ethics Counsellor. Every query or concern rais ed by any Designated \\nPerson in relation to any suspected violation of this ABAC Policy shall be investigated \\nby the Compliance Officer. All queries, concerns or complaints received by the Company Ethics Counsellor \\ndealing with a bribe ry or corruption issue should be reported to the Compliance \\nOfficer by the Company Ethics Counsellor. Any action required  to be undertaken \\nunder this ABAC  Policy shall be taken by the Compliance Officer in accordance with \\nthis ABAC Policy. The Compliance Officer shall have a functional reporting to the  \\nDesignated Director , Dr. Nirmalya Kumar  (Email: nirmalya@tata.com) and shall \\nsubmit quarterly compliance reports to the Designated Director. Aggravated cases of \\nbreach of this ABAC Policy shall be escalated to the Board of Directors o f the \\nCompany (“Board”). IV.'),\n",
       " Document(metadata={}, page_content=' \\n  Privileged and Confidential \\n 1 \\n \\n \\n \\n \\n \\n \\n \\n \\n \\n \\n \\nTATA INDUSTRIES LIMITED \\n \\n \\n \\nANTI-BRIBERY AND ANTI-CORRUPTION POLICY \\n \\n \\n \\nMarch 14, 2016 \\n \\n  '),\n",
       " Document(metadata={}, page_content=' \\n  Privileged and Confidential \\n 2 \\nMODEL ANTI-BRIBERY AND ANTI-CORRUPTION POLICY \\nI. Policy  Statement and Purpose \\n \\n1. One of the c ore principles set out in the Tata Code of Conduct 2015 states: ‘ We are \\ncommitted to operating our businesses conforming to the highest moral and ethical \\nstandards. We do not tolerate bribery or corruption in any form. This commitment \\nunderpins everything we do.’  \\n \\nOur Company , having adopted the Tata Code of Conduct in 2015, is therefore \\ncommitted to acting professionally, fairly and with integrity in all its business dealings \\nand relationships wherever it operates, and to implementing and enforcing effective \\nsystems to counter bribery. This includes compliance with all laws, domestic and \\nforeign, prohibiting improper payments, gifts or inducements of any kind to or from \\nany person, including officials in the private or public sector, customers and su ppliers. Our Company is equally committed to the prevention, deterrence and detection of \\nbribery and other corrupt business practices. 2. Bribery and corruption can take many forms including cash  or gifts to an individual or \\nfamily members  or associates, inflated commissions, fake consultancy agreements, \\nunauthorized rebates, non-monetary favours  and false political or charitable \\ndonations. These actions may be undertaken  directly or through a third party. It is \\nillegal and immoral to, directly or indirectly, offer or receive a bribe. 3. We uphold all laws relevant to countering bribery and corruption  applicable to us in \\nthe conduct of our business  across all the jurisdictions in which we operate including , \\nwherever applicable, the U.S Foreign Corrupt Practices Act (“ FCPA”), the UK Bribery \\nAct (“ UKBA”) and the Indian Prevention of Corruption Act, 1988  (“PCA”). Different \\nstatutes adopt different yardsticks to determine whether or not a particular act or \\nomission is an offence thereunder; thus an act may be an offence under one statute, \\nbut not under another. T he FCPA makes it a federal crime for companies or \\nindividuals to bribe government officials in non -U.S. countries in order to obtain or \\nretain business, or to secure impro per business advantages. The FCPA also requires \\npublic companies or issuers (U.S. and non -U.S companies that trade securities on a \\nU.S.'),\n",
       " Document(metadata={}, page_content='POLITICAL COMMUNITY AND CHARITABLE CONTRIBUTIONS \\n1. Section I, Clause 1 of TCoC 2015 states : “We shall act in accordance with the \\nconstitution and governance systems of the countries in which we operate. We do not \\nseek to influence the outcome of public elections, nor to undermine or alter any \\nsystem of government. We do not support any specific political party or candidate for \\npolitical office. Our conduct must preclude any activity that could be interpreted as \\nmutual dependence / favour with any political body or person, and we do not offer or \\ngive any company funds or property or other resources as donations to any specific \\npolitical party, candidate or campaign. Any financial contributions considered by our Board of Directors in order to \\nstrengthen democratic forces through a clean electoral process shall be extended \\nonly through the Progressive Electoral Trust in India, or by a similar transparent, duly-\\nauthorised, non-discriminatory and non-discretionary vehicle outside India”. Designated Persons are not  allowed to make political contributions from the funds, \\nproperties or other resources  of our Company except political contributions approved \\nby the Board in accordance with the TCoC  and in compliance with applicable \\nlaw. Our Company may make  charitable donation s for humanitarian needs and \\nother factors, including emergency situations and disaster relief. Such contributions \\nmust be made in compliance with our Company’s Corporate Social Responsibili ty \\nPolicy, when it will be adopted by the Board. However, it is important that we pay \\nspecial attention when making donations such that they shall be made without \\ndemand or expectation, so that our donations would not be considered inducements, \\nas this would be a violation of the anti -corruption laws , the TCoC  and this ABAC \\nPolicy. Thus, contributions by the Company to community projects or charities need \\nto be made in good faith and in compliance with our TCoC, this ABAC Policy and all \\nother relevant policies and procedures. ')]"
      ]
     },
     "execution_count": 16,
     "metadata": {},
     "output_type": "execute_result"
    }
   ],
   "source": [
    "chroma_db.as_retriever().get_relevant_documents(\"finance vp of tata iq?\")"
   ]
  },
  {
   "cell_type": "code",
   "execution_count": null,
   "id": "6d58672c",
   "metadata": {},
   "outputs": [],
   "source": []
  }
 ],
 "metadata": {
  "kernelspec": {
   "display_name": "yolov8",
   "language": "python",
   "name": "yolov8"
  },
  "language_info": {
   "codemirror_mode": {
    "name": "ipython",
    "version": 3
   },
   "file_extension": ".py",
   "mimetype": "text/x-python",
   "name": "python",
   "nbconvert_exporter": "python",
   "pygments_lexer": "ipython3",
   "version": "3.10.9"
  }
 },
 "nbformat": 4,
 "nbformat_minor": 5
}
